{
 "cells": [
  {
   "cell_type": "markdown",
   "metadata": {},
   "source": [
    "# Optical Character Recognition(OCR)\n",
    "This guide demonstrates the seperate full workflow to run ppocr_det, ppocr_rec and PicoDet_layout_1x models on Arm® Ethos™-U85 processor. "
   ]
  },
  {
   "cell_type": "markdown",
   "metadata": {},
   "source": [
    "## ppocr_det"
   ]
  },
  {
   "cell_type": "code",
   "execution_count": null,
   "metadata": {},
   "outputs": [],
   "source": [
    "# create virtual environment with Python 3.9\n",
    "!python3.9 -m venv ppocr_det\n",
    "!source ppocr_det/bin/activate\n",
    "!cd ppocr_det"
   ]
  },
  {
   "cell_type": "code",
   "execution_count": null,
   "metadata": {},
   "outputs": [],
   "source": [
    "# Download example source code\n",
    "!git clone https://github.com/Arm-Examples/Paddle-on-Ethos-U.git\n",
    "!cd Paddle-on-Ethos-U\n",
    "git lfs pull\n",
    "# Configure inference environment\n",
    "!bash install.sh"
   ]
  },
  {
   "cell_type": "code",
   "execution_count": null,
   "metadata": {},
   "outputs": [],
   "source": [
    "# Download ppocr_det model\n",
    "!wget -O ./model_zoo/PpocrDet_infer_int8/ch_ppocr_mobile_v2.0_det_slim_opt.nb https://paddleocr.bj.bcebos.com/dygraph_v2.0/lite/ch_ppocr_mobile_v2.0_det_slim_opt.nb"
   ]
  },
  {
   "cell_type": "code",
   "execution_count": null,
   "metadata": {},
   "outputs": [],
   "source": [
    "# Convert .nb model into IR file (.json file)\n",
    "!python ./readnb/write_model.py --model_path ./model_zoo/PpocrDet_infer_int8/ch_ppocr_mobile_v2.0_det_slim_opt.nb --out_dir . # \"g_ch_ppocr_mobile_v2.0_det_slim_opt.json\" is generated under the same directory with input model file\n",
    "# Modify the IR file with patch quickly. You could also do these modification maunally.\n",
    "!patch -p0 model_zoo/PpocrDet_infer_int8/g_ch_ppocr_mobile_v2.0_det_slim_opt.json < readnb/test_asset/ppocr_det/g_ch_ppocr_det.patch"
   ]
  },
  {
   "cell_type": "code",
   "execution_count": null,
   "metadata": {},
   "outputs": [],
   "source": [
    "# Run inference\n",
    "!bash paddle_verify.sh -m ppocr_det -p ./model_zoo/PpocrDet_infer_int8/test.jpg"
   ]
  },
  {
   "cell_type": "markdown",
   "metadata": {},
   "source": [
    "## ppocr_rec"
   ]
  },
  {
   "cell_type": "code",
   "execution_count": null,
   "metadata": {},
   "outputs": [],
   "source": [
    "# create virtual environment with Python 3.9\n",
    "!python3.9 -m venv ppocr_rec\n",
    "!source ppocr_rec/bin/activate\n",
    "!cd ppocr_rec"
   ]
  },
  {
   "cell_type": "code",
   "execution_count": null,
   "metadata": {},
   "outputs": [],
   "source": [
    "# Download example source code\n",
    "!git clone https://github.com/Arm-Examples/Paddle-on-Ethos-U.git\n",
    "!cd Paddle-on-Ethos-U\n",
    "git lfs pull\n",
    "# Configure inference environment\n",
    "!bash install.sh"
   ]
  },
  {
   "cell_type": "code",
   "execution_count": null,
   "metadata": {},
   "outputs": [],
   "source": [
    "# Download ppocr_rec model\n",
    "!wget -O ./model_zoo/PpocrRec_infer_int8/ch_ppocr_mobile_v2.0_rec_slim_opt.nb https://paddleocr.bj.bcebos.com/dygraph_v2.0/lite/ch_ppocr_mobile_v2.0_rec_slim_opt.nb"
   ]
  },
  {
   "cell_type": "code",
   "execution_count": null,
   "metadata": {},
   "outputs": [],
   "source": [
    "# Convert .nb model into IR file (.json file)\n",
    "!python ./readnb/write_model.py --model_path ./model_zoo/PpocrRec_infer_int8/ch_ppocr_mobile_v2.0_rec_slim_opt.nb --out_dir . # \"g_ch_ppocr_mobile_v2.0_rec_slim_opt.json\" is generated under the same directory with input model file\n",
    "# Modify the IR file with patch quickly. You could also do these modification maunally.\n",
    "!patch -p0 model_zoo/PpocrRec_infer_int8/g_ch_ppocr_mobile_v2.0_rec_slim_opt.json < readnb/test_asset/ppocr_rec/g_ch_ppocr_rec.patch"
   ]
  },
  {
   "cell_type": "code",
   "execution_count": null,
   "metadata": {},
   "outputs": [],
   "source": [
    "# Run inference\n",
    "!bash paddle_verify.sh -m ppocr_rec -p ./model_zoo/PpocrRec_infer_int8/test.jpg"
   ]
  },
  {
   "cell_type": "markdown",
   "metadata": {},
   "source": [
    "## PicoDet_layout_1x"
   ]
  },
  {
   "cell_type": "markdown",
   "metadata": {},
   "source": [
    "Coming soon"
   ]
  }
 ],
 "metadata": {
  "language_info": {
   "name": "python"
  }
 },
 "nbformat": 4,
 "nbformat_minor": 2
}
