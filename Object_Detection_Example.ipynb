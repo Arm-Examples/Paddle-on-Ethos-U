{
 "cells": [
  {
   "cell_type": "markdown",
   "metadata": {},
   "source": [
    "# Object Detection\n",
    "This guide demonstrates the seperate full workflow to run PicoDetV2 model on Arm® Ethos™-U85 processor.  "
   ]
  },
  {
   "cell_type": "markdown",
   "metadata": {},
   "source": [
    "## PicoDetV2"
   ]
  },
  {
   "cell_type": "code",
   "execution_count": null,
   "metadata": {},
   "outputs": [],
   "source": [
    "# create virtual environment with Python 3.10\n",
    "!python3.10 -m venv picodetv2\n",
    "!source picodetv2/bin/activate\n",
    "!cd picodetv2"
   ]
  },
  {
   "cell_type": "code",
   "execution_count": null,
   "metadata": {},
   "outputs": [],
   "source": [
    "# Install dependencies\n",
    "!cat <<EOF > picodetv2_req.txt\n",
    "asttokens==3.0.0\n",
    "coloredlogs==15.0.1\n",
    "decorator==5.2.1\n",
    "exceptiongroup==1.3.0\n",
    "executing==2.2.0\n",
    "flatbuffers==25.2.10\n",
    "humanfriendly==10.0\n",
    "jedi==0.19.2\n",
    "matplotlib-inline==0.1.7\n",
    "mpmath==1.3.0\n",
    "paddlelite==2.13rc0\n",
    "parso==0.8.4\n",
    "pexpect==4.9.0\n",
    "pip==25.2\n",
    "prompt_toolkit==3.0.51\n",
    "ptyprocess==0.7.0\n",
    "pure_eval==0.2.3\n",
    "setuptools==78.1.1\n",
    "stack-data==0.6.3\n",
    "traitlets==5.14.3\n",
    "wcwidth==0.2.13\n",
    "wheel==0.45.1\n",
    "EOF\n",
    "!pip install -r ./picodetv2_req.txt"
   ]
  },
  {
   "cell_type": "code",
   "execution_count": null,
   "metadata": {},
   "outputs": [],
   "source": [
    "# Download example source code\n",
    "!git clone https://github.com/Arm-Examples/Paddle-on-Ethos-U.git\n",
    "!cd Paddle-on-Ethos-U\n",
    "git lfs pull\n",
    "# Configure inference environment\n",
    "!bash install.sh"
   ]
  },
  {
   "cell_type": "code",
   "execution_count": null,
   "metadata": {},
   "outputs": [],
   "source": [
    "# Download picodetv2 model\n",
    "!wget -O ./model_zoo/PicoDetV2_infer_int8/picodetv2_relu6_coco_no_fuse.tar.gz https://paddlelite-demo.bj.bcebos.com/Paddle-Lite-Demo/models/picodetv2_relu6_coco_no_fuse.tar.gz\n",
    "!cd ./model_zoo/PicoDetV2_infer_int8\n",
    "!tar -xvzf picodetv2_relu6_coco_no_fuse.tar.gz"
   ]
  },
  {
   "cell_type": "code",
   "execution_count": null,
   "metadata": {},
   "outputs": [],
   "source": [
    "# Convert model into .nb format\n",
    "!paddle_lite_opt --model_dir=./picodetv2_relu6_coco_no_fuse --optimize_out_type=naive_buffer --optimize_out=./picodetv2_relu6_coco_no_fuse --quant_model=true --quant_type=QUANT_INT8 --valid_targets=arm # The model file \"picodetv2_relu6_coco_no_fuse.nb\" will be generated under current directory."
   ]
  },
  {
   "cell_type": "code",
   "execution_count": null,
   "metadata": {},
   "outputs": [],
   "source": [
    "# Convert .nb model into IR file (.json file)\n",
    "!cd ../..\n",
    "!python ./readnb/write_model.py --model_path ./model_zoo/PicoDetV2_infer_int8/picodetv2_relu6_coco_no_fuse.nb --out_dir . # \"g_picodetv2_relu6_coco_no_fuse.json\" is generated under the same directory with input model file\n",
    "# Modify the IR file with patch quickly. You could also do these modification maunally.\n",
    "!patch -p0 model_zoo/PicoDetV2_infer_int8/g_picodetv2_relu6_coco_no_fuse.json < readnb/test_asset/picodet/g_picodetv2.patch"
   ]
  },
  {
   "cell_type": "code",
   "execution_count": null,
   "metadata": {},
   "outputs": [],
   "source": [
    "# Run inference\n",
    "!bash paddle_verify.sh -m picodetv2 -p ./model_zoo/PicoDetV2_infer_int8/demo.jpg"
   ]
  }
 ],
 "metadata": {
  "language_info": {
   "name": "python"
  }
 },
 "nbformat": 4,
 "nbformat_minor": 2
}
