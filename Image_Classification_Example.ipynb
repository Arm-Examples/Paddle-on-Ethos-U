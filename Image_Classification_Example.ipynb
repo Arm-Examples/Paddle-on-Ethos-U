{
 "cells": [
  {
   "cell_type": "markdown",
   "metadata": {},
   "source": [
    "# Image Classification\n",
    "This guide demonstrates the seperate full workflow to run MobileNetV1 and PPLCNetV2 models on Arm® Ethos™-U85 processor.  "
   ]
  },
  {
   "cell_type": "markdown",
   "metadata": {},
   "source": [
    "## PPLCNetV2\n",
    "### 1. Prepare your models"
   ]
  },
  {
   "cell_type": "code",
   "execution_count": null,
   "metadata": {},
   "outputs": [],
   "source": [
    "# create virtual environment with Python 3.10\n",
    "!python3.10 -m venv pplcnetv2\n",
    "!source pplcnetv2/bin/activate\n",
    "cd pplcnetv2/"
   ]
  },
  {
   "cell_type": "code",
   "execution_count": null,
   "metadata": {},
   "outputs": [],
   "source": [
    "# Install dependencies\n",
    "!cat <<EOF > pplcnetv2_req.txt\n",
    "anyio==4.9.0\n",
    "astor==0.8.1\n",
    "boto3==1.39.7\n",
    "botocore==1.39.7\n",
    "bottle==0.13.4\n",
    "certifi==2025.7.14\n",
    "charset-normalizer==3.4.2\n",
    "common==0.1.2\n",
    "contourpy==1.3.2\n",
    "cycler==0.12.1\n",
    "data==0.4\n",
    "decorator==5.2.1\n",
    "dual==0.1.0\n",
    "dynamo3==0.4.10\n",
    "exceptiongroup==1.3.0\n",
    "flywheel==0.5.4\n",
    "fonttools==4.59.0\n",
    "funcsigs==1.0.2\n",
    "h11==0.16.0\n",
    "httpcore==1.0.9\n",
    "httpx==0.28.1\n",
    "idna==3.10\n",
    "jmespath==1.0.1\n",
    "kiwisolver==1.4.8\n",
    "matplotlib==3.10.3\n",
    "mpmath==1.3.0\n",
    "numpy==2.2.6\n",
    "opt-einsum==3.3.0\n",
    "packaging==25.0\n",
    "paddlelite==2.13rc0\n",
    "paddlepaddle==2.6.2\n",
    "peewee==3.18.2\n",
    "pillow==11.3.0\n",
    "pip==25.1\n",
    "protobuf==6.31.1\n",
    "prox==0.0.17\n",
    "pyparsing==3.2.3\n",
    "PySocks==1.7.1\n",
    "python-dateutil==2.9.0.post0\n",
    "python-geoip-python3==1.3\n",
    "PyYAML==6.0.2\n",
    "pyzmq==27.0.0\n",
    "requests==2.32.4\n",
    "s3transfer==0.13.0\n",
    "setuptools==78.1.1\n",
    "six==1.17.0\n",
    "sniffio==1.3.1\n",
    "sympy==1.14.0\n",
    "tight==0.1.0\n",
    "tqdm==4.67.1\n",
    "typing_extensions==4.14.1\n",
    "urllib3==2.5.0\n",
    "utility==1.0\n",
    "wheel==0.45.1\n",
    "x2paddle==1.6.0\n",
    "zmq==0.0.0\n",
    "EOF\n",
    "!pip install -r ./pplcnetv2_req.txt"
   ]
  },
  {
   "cell_type": "code",
   "execution_count": null,
   "metadata": {},
   "outputs": [],
   "source": [
    "# Quantize your model\n",
    "# Download quantize tool\n",
    "!git clone https://github.com/PaddlePaddle/PaddleSlim.git\n",
    "!cd PaddleSlim/\n",
    "!pip install -e .\n",
    "# Download PPLCNetV2 model\n",
    "!cd demo\n",
    "!mkdir inference_model\n",
    "!cd inference_model\n",
    "!wget https://paddle-imagenet-models-name.bj.bcebos.com/dygraph/inference/PPLCNetV2_base_infer.tar\n",
    "!tar -xf PPLCNetV2_base_infer.tar\n",
    "!cd .."
   ]
  },
  {
   "cell_type": "code",
   "execution_count": null,
   "metadata": {},
   "outputs": [],
   "source": [
    "# Download dataset\n",
    "!mkdir data\n",
    "!cd data"
   ]
  },
  {
   "cell_type": "markdown",
   "metadata": {},
   "source": [
    "**Prepare your dataset maunally**\n",
    "\n",
    "You could choose to download [ILSVRC2012](https://www.image-net.org/challenges/LSVRC/2012/) dataset from [Baidu AI Studio](https://aistudio.baidu.com/datasetdetail/182091) or other avaiable channels ie. Kaggle. \n",
    "* Download ILSVRC2012_val_list.txt and ILSVRC2012_val.zip maunally.\n",
    "* Uname ILSVRC2012_val_list.txt to val_list.txt.\n",
    "* Unzip ILSVRC2012_val.zip to ILSVRC2012.\n",
    "* Move val_list.txt into ILSVRC2012 folder.\n",
    "* Move ILSVRC2012 folder under the created \"data\" folder above (perhaps under \"xxx/pplcnetv2/PaddleSlim/demo/data\")"
   ]
  },
  {
   "cell_type": "code",
   "execution_count": null,
   "metadata": {},
   "outputs": [],
   "source": [
    "# Quantize model\n",
    "!cd ..\n",
    "!export PYTHONPATH=$PYTHONPATH:$(pwd)\n",
    "!python3 quant/quant_post/quant_post.py --input_name x --model_path inference_model/PPLCNetV2_base_infer --model_filename inference.pdmodel --save_path PPLCNet --use_gpu FALSE --is_full_quantize TRUE"
   ]
  },
  {
   "cell_type": "code",
   "execution_count": null,
   "metadata": {},
   "outputs": [],
   "source": [
    "# Convert quantized model into .nb format\n",
    "!paddle_lite_opt --model_dir=./PPLCNet --optimize_out_type=naive_buffer --valid_targets=arm --optimize_out=PPLCNetV2_base_infer_int8_opt # The model file \"PPLCNetV2_base_infer_int8_opt.nb\" will be generated under current directory."
   ]
  },
  {
   "cell_type": "markdown",
   "metadata": {},
   "source": [
    "### 2. Run inference example"
   ]
  },
  {
   "cell_type": "code",
   "execution_count": null,
   "metadata": {},
   "outputs": [],
   "source": [
    "# Download example source code\n",
    "!git clone https://github.com/Arm-Examples/Paddle-on-Ethos-U.git\n",
    "!cd Paddle-on-Ethos-U\n",
    "git lfs pull\n",
    "# Configure inference environment\n",
    "!bash install.sh"
   ]
  },
  {
   "cell_type": "code",
   "execution_count": null,
   "metadata": {},
   "outputs": [],
   "source": [
    "# Copy above \"PPLCNetV2_base_infer_int8_opt.nb\" file into \"Paddle-on-Ethos-U/model_zoo/PPLCNetV2_infer_int8\"\n",
    "# Run inference\n",
    "!bash paddle_verify.sh -m pplcnetv2 -p ./model_zoo/PPLCNetV2_infer_int8/ILSVRC2012_val_00000994.JPEG"
   ]
  },
  {
   "cell_type": "markdown",
   "metadata": {},
   "source": [
    "## MobileNetV1\n",
    "### 1. Prepare your models"
   ]
  },
  {
   "cell_type": "code",
   "execution_count": null,
   "metadata": {},
   "outputs": [],
   "source": [
    "# create virtual environment with Python 3.10\n",
    "!python3.10 -m venv mv1\n",
    "!source mv1/bin/activate\n",
    "cd mv1/"
   ]
  },
  {
   "cell_type": "code",
   "execution_count": null,
   "metadata": {},
   "outputs": [],
   "source": [
    "# Install dependencies\n",
    "!cat <<EOF > mv1_req.txt\n",
    "anyio==4.9.0\n",
    "astor==0.8.1\n",
    "boto3==1.39.7\n",
    "botocore==1.39.7\n",
    "bottle==0.13.4\n",
    "certifi==2025.7.14\n",
    "charset-normalizer==3.4.2\n",
    "common==0.1.2\n",
    "contourpy==1.3.2\n",
    "cycler==0.12.1\n",
    "data==0.4\n",
    "decorator==5.2.1\n",
    "dual==0.1.0\n",
    "dynamo3==0.4.10\n",
    "exceptiongroup==1.3.0\n",
    "flywheel==0.5.4\n",
    "fonttools==4.59.0\n",
    "funcsigs==1.0.2\n",
    "h11==0.16.0\n",
    "httpcore==1.0.9\n",
    "httpx==0.28.1\n",
    "idna==3.10\n",
    "jmespath==1.0.1\n",
    "kiwisolver==1.4.8\n",
    "matplotlib==3.10.3\n",
    "mpmath==1.3.0\n",
    "numpy==2.2.6\n",
    "opt-einsum==3.3.0\n",
    "packaging==25.0\n",
    "paddlelite==2.13rc0\n",
    "paddlepaddle==2.6.2\n",
    "peewee==3.18.2\n",
    "pillow==11.3.0\n",
    "pip==25.1\n",
    "protobuf==6.31.1\n",
    "prox==0.0.17\n",
    "pyparsing==3.2.3\n",
    "PySocks==1.7.1\n",
    "python-dateutil==2.9.0.post0\n",
    "python-geoip-python3==1.3\n",
    "PyYAML==6.0.2\n",
    "pyzmq==27.0.0\n",
    "requests==2.32.4\n",
    "s3transfer==0.13.0\n",
    "setuptools==78.1.1\n",
    "six==1.17.0\n",
    "sniffio==1.3.1\n",
    "sympy==1.14.0\n",
    "tight==0.1.0\n",
    "tqdm==4.67.1\n",
    "typing_extensions==4.14.1\n",
    "urllib3==2.5.0\n",
    "utility==1.0\n",
    "wheel==0.45.1\n",
    "x2paddle==1.6.0\n",
    "zmq==0.0.0\n",
    "EOF\n",
    "!pip install -r ./mv1_req.txt"
   ]
  },
  {
   "cell_type": "code",
   "execution_count": null,
   "metadata": {},
   "outputs": [],
   "source": [
    "# Quantize your model\n",
    "# Download quantize tool\n",
    "!git clone https://github.com/PaddlePaddle/PaddleSlim.git\n",
    "!cd PaddleSlim/\n",
    "!pip install -e .\n",
    "# Download MobileNetV1 model\n",
    "!cd demo\n",
    "!mkdir inference_model\n",
    "!cd inference_model\n",
    "!wget https://paddle-imagenet-models-name.bj.bcebos.com/dygraph/inference/MobileNetV1_infer.tar\n",
    "!tar -xf MobileNetV1_infer.tar\n",
    "!cd .."
   ]
  },
  {
   "cell_type": "code",
   "execution_count": null,
   "metadata": {},
   "outputs": [],
   "source": [
    "# Download dataset\n",
    "!mkdir data\n",
    "!cd data"
   ]
  },
  {
   "cell_type": "markdown",
   "metadata": {},
   "source": [
    "**Prepare your dataset maunally**\n",
    "\n",
    "You could choose to download [ILSVRC2012](https://www.image-net.org/challenges/LSVRC/2012/) dataset from [Baidu AI Studio](https://aistudio.baidu.com/datasetdetail/182091) or other avaiable channels ie. Kaggle. \n",
    "* Download ILSVRC2012_val_list.txt and ILSVRC2012_val.zip maunally.\n",
    "* Uname ILSVRC2012_val_list.txt to val_list.txt.\n",
    "* Unzip ILSVRC2012_val.zip to ILSVRC2012.\n",
    "* Move val_list.txt into ILSVRC2012 folder.\n",
    "* Move ILSVRC2012 folder under the created \"data\" folder above (perhaps under \"xxx/mv1/PaddleSlim/demo/data\")\n"
   ]
  },
  {
   "cell_type": "code",
   "execution_count": null,
   "metadata": {},
   "outputs": [],
   "source": [
    "# Quantize model\n",
    "!cd ..\n",
    "!export PYTHONPATH=$PYTHONPATH:$(pwd)\n",
    "!python3 quant/quant_post/quant_post.py --model_path inference_model/MobileNetV1_infer --model_filename inference.pdmodel --save_path MobileNet --use_gpu FALSE"
   ]
  },
  {
   "cell_type": "code",
   "execution_count": null,
   "metadata": {},
   "outputs": [],
   "source": [
    "# Convert quantized model into .nb format\n",
    "!paddle_lite_opt --model_dir=./MobileNet --optimize_out_type=naive_buffer --valid_targets=arm --optimize_out=mobilenetv1_int8_opt # The model file \"mobilenetv1_int8_opt.nb\" will be generated under current directory."
   ]
  },
  {
   "cell_type": "markdown",
   "metadata": {},
   "source": [
    "### 2. Run inference example"
   ]
  },
  {
   "cell_type": "code",
   "execution_count": null,
   "metadata": {},
   "outputs": [],
   "source": [
    "# Download example source code\n",
    "!git clone https://github.com/Arm-Examples/Paddle-on-Ethos-U.git\n",
    "!cd Paddle-on-Ethos-U\n",
    "# Configure inference environment\n",
    "!bash install.sh"
   ]
  },
  {
   "cell_type": "code",
   "execution_count": null,
   "metadata": {},
   "outputs": [],
   "source": [
    "# Copy above \"mobilenetv1_int8_opt.nb\" file into \"Paddle-on-Ethos-U/model_zoo/MobileNetV1_infer_int8\"\n",
    "# Run inference\n",
    "!bash paddle_verify.sh -m mv1 -p ./model_zoo/MobileNetV1_infer_int8/ILSVRC2012_val_00000178.JPEG"
   ]
  }
 ],
 "metadata": {
  "language_info": {
   "name": "python"
  }
 },
 "nbformat": 4,
 "nbformat_minor": 2
}
